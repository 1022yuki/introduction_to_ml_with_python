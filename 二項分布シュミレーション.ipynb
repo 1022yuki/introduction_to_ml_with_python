{
  "nbformat": 4,
  "nbformat_minor": 0,
  "metadata": {
    "colab": {
      "name": "二項分布シュミレーション.ipynb",
      "provenance": [],
      "collapsed_sections": [],
      "authorship_tag": "ABX9TyPGQTqJxR3bM5M+1C5j4pJ+",
      "include_colab_link": true
    },
    "kernelspec": {
      "name": "python3",
      "display_name": "Python 3"
    },
    "language_info": {
      "name": "python"
    }
  },
  "cells": [
    {
      "cell_type": "markdown",
      "metadata": {
        "id": "view-in-github",
        "colab_type": "text"
      },
      "source": [
        "<a href=\"https://colab.research.google.com/github/1022yuki/introduction_to_ml_with_python/blob/master/%E4%BA%8C%E9%A0%85%E5%88%86%E5%B8%83%E3%82%B7%E3%83%A5%E3%83%9F%E3%83%AC%E3%83%BC%E3%82%B7%E3%83%A7%E3%83%B3.ipynb\" target=\"_parent\"><img src=\"https://colab.research.google.com/assets/colab-badge.svg\" alt=\"Open In Colab\"/></a>"
      ]
    },
    {
      "cell_type": "markdown",
      "source": [
        "# 二項分布シュミレーター"
      ],
      "metadata": {
        "id": "nHgfrm9GzjYj"
      }
    },
    {
      "cell_type": "markdown",
      "source": [
        "参考文献\n",
        "\n",
        "http://www.gentosha-academy.com/serial/okamoto-2/\n",
        "https://python.atelierkobato.com/binomial/#outline__1_3[リンクテキスト](https://)"
      ],
      "metadata": {
        "id": "pWI2XgNS2MGe"
      }
    },
    {
      "cell_type": "markdown",
      "source": [
        "会議室の座席占有状況を考える。\n",
        "プロットされるヒストグラムは、k席着席され，(n-k)席空席となる確率pkを図示したものであり、横軸はkを、縦軸はpkを表す。"
      ],
      "metadata": {
        "id": "4kxTK8NI0jCJ"
      }
    },
    {
      "cell_type": "code",
      "execution_count": 123,
      "metadata": {
        "id": "unIy5_HImTYH"
      },
      "outputs": [],
      "source": [
        "import numpy as np\n",
        "import matplotlib.pyplot as plt\n",
        "# import math\n",
        "import scipy"
      ]
    },
    {
      "cell_type": "markdown",
      "source": [
        "関数 seat(seat_num, p): について\n",
        "\n",
        "seat_numは座席数を、pは各席が着席となる確率を表す。\n",
        "\n",
        "scipy.stats.binom() は二項分布オブジェクトを生成するコンストラクタである\n",
        "\n"
      ],
      "metadata": {
        "id": "ZWI8RU60zsDJ"
      }
    },
    {
      "cell_type": "code",
      "source": [
        "def seat(seat_num, p): \n",
        "  data = scipy.stats.binom.rvs(seat_num, p, size = 10**6)\n",
        "  # print(data.shape)\n",
        "  # print(data)\n",
        "  x_range = [i - 0.5 for i in range(seat_num+2)]\n",
        "  plt.hist(data, bins = x_range)\n",
        "  plt.show()\n",
        "\n",
        "  mean = np.mean(data)\n",
        "  var = np.var(data)\n",
        "  print(\"平均:\")\n",
        "  print(mean)\n",
        "  print(\"分散:\")\n",
        "  print(var)"
      ],
      "metadata": {
        "id": "OAh5fjitpeT7"
      },
      "execution_count": 121,
      "outputs": []
    },
    {
      "cell_type": "markdown",
      "source": [
        "まず、座席数は6とする。\n",
        "p=0.2, 0.5, 0.7\n",
        "とすると、グラフは以下のようになる。"
      ],
      "metadata": {
        "id": "CYtBt-MH1DsD"
      }
    },
    {
      "cell_type": "code",
      "source": [
        "seat(6, 0.2)\n",
        "seat(6, 0.5)\n",
        "seat(6, 0.7)"
      ],
      "metadata": {
        "colab": {
          "base_uri": "https://localhost:8080/",
          "height": 975
        },
        "id": "W-YgUfdWvI99",
        "outputId": "29c558ae-43c1-4a99-99c5-1fd85956febd"
      },
      "execution_count": 122,
      "outputs": [
        {
          "output_type": "display_data",
          "data": {
            "text/plain": [
              "<Figure size 432x288 with 1 Axes>"
            ],
            "image/png": "[encoded data removed]"
          },
          "metadata": {
            "needs_background": "light"
          }
        },
        {
          "output_type": "stream",
          "name": "stdout",
          "text": [
            "平均:\n",
            "1.200224\n",
            "分散:\n",
            "0.9589503498240001\n"
          ]
        },
        {
          "output_type": "display_data",
          "data": {
            "text/plain": [
              "<Figure size 432x288 with 1 Axes>"
            ],
            "image/png": "[encoded data removed]"
          },
          "metadata": {
            "needs_background": "light"
          }
        },
        {
          "output_type": "stream",
          "name": "stdout",
          "text": [
            "平均:\n",
            "3.000359\n",
            "分散:\n",
            "1.4974788711190004\n"
          ]
        },
        {
          "output_type": "display_data",
          "data": {
            "text/plain": [
              "<Figure size 432x288 with 1 Axes>"
            ],
            "image/png": "[encoded data removed]"
          },
          "metadata": {
            "needs_background": "light"
          }
        },
        {
          "output_type": "stream",
          "name": "stdout",
          "text": [
            "平均:\n",
            "4.201051\n",
            "分散:\n",
            "1.258599495399\n"
          ]
        }
      ]
    },
    {
      "cell_type": "markdown",
      "source": [
        "次に、座席数seat_numを100, 着席の確率pを0.02とすると、以下のようになる"
      ],
      "metadata": {
        "id": "12VzwIOX1phC"
      }
    },
    {
      "cell_type": "code",
      "source": [
        "seat(100, 0.02)"
      ],
      "metadata": {
        "colab": {
          "base_uri": "https://localhost:8080/",
          "height": 336
        },
        "id": "_Oov1YvgmdXy",
        "outputId": "91c2c896-89e6-4585-943f-edec9a1ce64e"
      },
      "execution_count": 119,
      "outputs": [
        {
          "output_type": "display_data",
          "data": {
            "text/plain": [
              "<Figure size 432x288 with 1 Axes>"
            ],
            "image/png": "[encoded data removed]"
          },
          "metadata": {
            "needs_background": "light"
          }
        },
        {
          "output_type": "stream",
          "name": "stdout",
          "text": [
            "平均:\n",
            "1.999598\n",
            "分散:\n",
            "1.958379838396\n"
          ]
        }
      ]
    },
    {
      "cell_type": "code",
      "source": [
        ""
      ],
      "metadata": {
        "id": "A_qIHH19o62a"
      },
      "execution_count": 119,
      "outputs": []
    },
    {
      "cell_type": "code",
      "source": [
        ""
      ],
      "metadata": {
        "id": "NL8dydnon6p3"
      },
      "execution_count": 26,
      "outputs": []
    },
    {
      "cell_type": "code",
      "source": [
        ""
      ],
      "metadata": {
        "id": "MPNuxlYrn7rn"
      },
      "execution_count": 23,
      "outputs": []
    }
  ]
}